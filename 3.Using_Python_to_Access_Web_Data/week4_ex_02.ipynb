{
 "cells": [
  {
   "cell_type": "markdown",
   "metadata": {},
   "source": [
    "# Following Links in Python  \n",
    "\n",
    "In this assignment you will write a Python program that expands on http://www.py4e.com/code3/urllinks.py. The program will use urllib to read the HTML from the data files below, extract the href= vaues from the anchor tags, scan for a tag that is in a particular position relative to the first name in the list, follow that link and repeat the process a number of times and report the last name you find.  \n",
    "\n",
    "We provide two files for this assignment. One is a sample file where we give you the name for your testing and the other is the actual data you need to process for the assignment  \n",
    "\n",
    "- Sample problem: Start at http://py4e-data.dr-chuck.net/known_by_Fikret.html  \n",
    "Find the link at position 3 (the first name is 1). Follow that link. Repeat this process 4 times. The answer is the last name that you retrieve.  \n",
    "Sequence of names: Fikret Montgomery Mhairade Butchi Anayah  \n",
    "Last name in sequence: Anayah  \n",
    "  \n",
    "- Actual problem: Start at: http://py4e-data.dr-chuck.net/known_by_Dulcie.html  \n",
    "Find the link at position 18 (the first name is 1). Follow that link. Repeat this process 7 times. The answer is the last name that you retrieve.  \n",
    "Hint: The first character of the name of the last page that you will load is: D  "
   ]
  },
  {
   "cell_type": "markdown",
   "metadata": {},
   "source": [
    "# Strategy  \n",
    "The web pages tweak the height between the links and hide the page after a few seconds to make it difficult for you to do the assignment without writing a Python program. But frankly with a little effort and patience you can overcome these attempts to make it a little harder to complete the assignment without writing a Python program. But that is not the point. The point is to write a clever Python program to solve the program."
   ]
  },
  {
   "cell_type": "code",
   "execution_count": 47,
   "metadata": {},
   "outputs": [
    {
     "name": "stdout",
     "output_type": "stream",
     "text": [
      "Retrieving:  http://py4e-data.dr-chuck.net/known_by_Dulcie.html\n",
      "Retrieving:  http://py4e-data.dr-chuck.net/known_by_Kalise.html\n",
      "Retrieving:  http://py4e-data.dr-chuck.net/known_by_Sylvie.html\n",
      "Retrieving:  http://py4e-data.dr-chuck.net/known_by_Rhoan.html\n",
      "Retrieving:  http://py4e-data.dr-chuck.net/known_by_Merina.html\n",
      "Retrieving:  http://py4e-data.dr-chuck.net/known_by_Rayaan.html\n",
      "Retrieving:  http://py4e-data.dr-chuck.net/known_by_Dyllon.html\n",
      "Retrieving:  http://py4e-data.dr-chuck.net/known_by_Dhavid.html\n",
      "Answer: Dhavid\n"
     ]
    }
   ],
   "source": [
    "# To run this, download the BeautifulSoup zip file\n",
    "# http://www.py4e.com/code3/bs4.zip\n",
    "# and unzip it in the same directory as this file\n",
    "\n",
    "import urllib.request, urllib.parse, urllib.error\n",
    "from bs4 import BeautifulSoup\n",
    "import ssl\n",
    "\n",
    "# Ignore SSL certificate errors\n",
    "ctx = ssl.create_default_context()\n",
    "ctx.check_hostname = False\n",
    "ctx.verify_mode = ssl.CERT_NONE\n",
    "\n",
    "url = \"http://py4e-data.dr-chuck.net/known_by_Dulcie.html\"#input('Enter - ')\n",
    "num = 7#input('Enter count: ') #repeat open links 7 times\n",
    "pos =  18#input('Enter position: ')  #open 18rd link\n",
    "#html = urllib.request.urlopen(url, context=ctx).read()\n",
    "#soup = BeautifulSoup(html, 'html.parser')\n",
    "\n",
    "print('Retrieving: ', url)\n",
    "\n",
    "# Retrieve all of the anchor tags\n",
    "tags = soup('a')\n",
    "#lst=[]\n",
    "#for tag in tags:\n",
    "    #print(tag.get('href', None))\n",
    "    #lst.append(tag.get('href', None))\n",
    "    #print('Contents:', tag.contents[0])\n",
    " #   lst.append(tag.contents[0])\n",
    "\n",
    "#print(lst)\n",
    "for i in range(int(num)):\n",
    "    html = urllib.request.urlopen(url, context=ctx).read()\n",
    "    soup = BeautifulSoup(html, 'html.parser')\n",
    "    tags = soup('a')\n",
    "    print('Retrieving: ',  tags[int(pos)-1].get('href', None))\n",
    "    url = tags[int(pos)-1].get('href', None) #update url\n",
    "\n",
    "print(\"Answer:\",tags[int(pos)-1].contents[0])"
   ]
  },
  {
   "cell_type": "code",
   "execution_count": null,
   "metadata": {},
   "outputs": [],
   "source": []
  },
  {
   "cell_type": "code",
   "execution_count": null,
   "metadata": {},
   "outputs": [],
   "source": []
  }
 ],
 "metadata": {
  "kernelspec": {
   "display_name": "Python 3",
   "language": "python",
   "name": "python3"
  },
  "language_info": {
   "codemirror_mode": {
    "name": "ipython",
    "version": 3
   },
   "file_extension": ".py",
   "mimetype": "text/x-python",
   "name": "python",
   "nbconvert_exporter": "python",
   "pygments_lexer": "ipython3",
   "version": "3.6.10"
  }
 },
 "nbformat": 4,
 "nbformat_minor": 2
}
