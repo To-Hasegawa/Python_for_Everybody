{
 "cells": [
  {
   "cell_type": "markdown",
   "metadata": {},
   "source": [
    "# Extracting Data from XML\n",
    "\n",
    "In this assignment you will write a Python program somewhat similar to http://www.py4e.com/code3/geoxml.py. The program will prompt for a URL, read the XML data from that URL using urllib and then parse and extract the comment counts from the XML data, compute the sum of the numbers in the file.  \n",
    "\n",
    "We provide two files for this assignment. One is a sample file where we give you the sum for your testing and the other is the actual data you need to process for the assignment.  \n",
    "\n",
    "- Sample data: http://py4e-data.dr-chuck.net/comments_42.xml (Sum=2553)  \n",
    "- Actual data: http://py4e-data.dr-chuck.net/comments_683105.xml (Sum ends with 83)  \n",
    "You do not need to save these files to your folder since your program will read the data directly from the URL. Note: Each student will have a distinct data url for the assignment - so only use your own data url for analysis."
   ]
  },
  {
   "cell_type": "markdown",
   "metadata": {},
   "source": [
    "# Data Format and Approach\n",
    "The data consists of a number of names and comment counts in XML as follows:  \n",
    "\"\"\"\n",
    "<comment>  \n",
    "  <name>Matthias</name>  \n",
    "  <count>97</count>  \n",
    "</comment>\n",
    "\"\"\"  \n",
    "You are to look through all the <comment> tags and find the <count> values sum the numbers. The closest sample code that shows how to parse XML is geoxml.py. But since the nesting of the elements in our data is different than the data we are parsing in that sample code you will have to make real changes to the code.  \n",
    "To make the code a little simpler, you can use an XPath selector string to look through the entire tree of XML for any tag named 'count' with the following line of code:"
   ]
  },
  {
   "cell_type": "markdown",
   "metadata": {},
   "source": [
    "counts = tree.findall('.//count')  \n",
    "Take a look at the Python ElementTree documentation and look for the supported XPath syntax for details. You could also work from the top of the XML down to the comments node and then loop through the child nodes of the comments node."
   ]
  },
  {
   "cell_type": "markdown",
   "metadata": {},
   "source": [
    "# sample execution  \n",
    "$ python3 solution.py  \n",
    "Enter location: http://py4e-data.dr-chuck.net/comments_42.xml  \n",
    "Retrieving http://py4e-data.dr-chuck.net/comments_42.xml  \n",
    "Retrieved 4189 characters  \n",
    "Count: 50  \n",
    "Sum: 2...  "
   ]
  },
  {
   "cell_type": "code",
   "execution_count": 17,
   "metadata": {},
   "outputs": [
    {
     "name": "stdout",
     "output_type": "stream",
     "text": [
      "Retrieving http://py4e-data.dr-chuck.net/comments_683105.xml\n",
      "Retrieved 4227 characters\n",
      "comment count: 50\n",
      "Sum: 2383\n"
     ]
    }
   ],
   "source": [
    "import urllib.request, urllib.parse, urllib.error\n",
    "import xml.etree.ElementTree as ET\n",
    "import ssl\n",
    "\n",
    "# Ignore SSL certificate errors\n",
    "ctx = ssl.create_default_context()\n",
    "ctx.check_hostname = False\n",
    "ctx.verify_mode = ssl.CERT_NONE\n",
    "\n",
    "address =\"http://py4e-data.dr-chuck.net/comments_683105.xml\" #input('Enter location: ')\n",
    "\n",
    "parms = dict()\n",
    "parms['address'] = address\n",
    "url = address#serviceurl + urllib.parse.urlencode(parms)\n",
    "print('Retrieving', url)\n",
    "uh = urllib.request.urlopen(url, context=ctx)\n",
    "\n",
    "data = uh.read()\n",
    "print('Retrieved', len(data), 'characters')\n",
    "#print(data.decode())\n",
    "tree = ET.fromstring(data)\n",
    "\n",
    "lst = tree.findall(\"comments/comment\") #list of \"comment\" tree\n",
    "print(\"comment count:\",len(lst))\n",
    "\n",
    "sumup = 0\n",
    "for item in lst:\n",
    "    add = item.find(\"count\").text\n",
    "    sumup = sumup + int(add)\n",
    "    \n",
    "print(\"Sum:\",sumup)"
   ]
  },
  {
   "cell_type": "code",
   "execution_count": null,
   "metadata": {},
   "outputs": [],
   "source": []
  }
 ],
 "metadata": {
  "kernelspec": {
   "display_name": "Python 3",
   "language": "python",
   "name": "python3"
  },
  "language_info": {
   "codemirror_mode": {
    "name": "ipython",
    "version": 3
   },
   "file_extension": ".py",
   "mimetype": "text/x-python",
   "name": "python",
   "nbconvert_exporter": "python",
   "pygments_lexer": "ipython3",
   "version": "3.6.10"
  }
 },
 "nbformat": 4,
 "nbformat_minor": 2
}
